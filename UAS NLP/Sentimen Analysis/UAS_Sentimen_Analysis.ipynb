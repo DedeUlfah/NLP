{
  "nbformat": 4,
  "nbformat_minor": 0,
  "metadata": {
    "colab": {
      "provenance": []
    },
    "kernelspec": {
      "name": "python3",
      "display_name": "Python 3"
    },
    "language_info": {
      "name": "python"
    }
  },
  "cells": [
    {
      "cell_type": "code",
      "source": [
        "from textblob import TextBlob\n",
        "import pandas as pd"
      ],
      "metadata": {
        "id": "Yp87V_-aFdFR"
      },
      "execution_count": 3,
      "outputs": []
    },
    {
      "cell_type": "code",
      "source": [
        "# Membaca dataset\n",
        "df = pd.read_csv('netflix_titles.csv')"
      ],
      "metadata": {
        "id": "qTYViR_lFgaI"
      },
      "execution_count": 4,
      "outputs": []
    },
    {
      "cell_type": "code",
      "source": [
        "# Fungsi untuk melakukan sentimen analisis\n",
        "def analyze_sentiment(description):\n",
        "    blob = TextBlob(str(description))\n",
        "    sentiment_score = blob.sentiment.polarity\n",
        "    if sentiment_score > 0:\n",
        "        return 'Positive'\n",
        "    elif sentiment_score < 0:\n",
        "        return 'Negative'\n",
        "    else:\n",
        "        return 'Neutral'"
      ],
      "metadata": {
        "id": "40d2rabYFlSq"
      },
      "execution_count": 5,
      "outputs": []
    },
    {
      "cell_type": "code",
      "source": [
        "# Menambah kolom baru 'sentiment' ke dalam dataset\n",
        "df['sentiment'] = df['description'].apply(analyze_sentiment)\n"
      ],
      "metadata": {
        "id": "l81xNnn8FpnQ"
      },
      "execution_count": 6,
      "outputs": []
    },
    {
      "cell_type": "code",
      "source": [
        "# Menampilkan hasil\n",
        "print(df[['description', 'sentiment']])\n"
      ],
      "metadata": {
        "colab": {
          "base_uri": "https://localhost:8080/"
        },
        "id": "Ax82XZ8sFtgl",
        "outputId": "72dce08f-fedf-43c9-eb89-59424e510969"
      },
      "execution_count": 8,
      "outputs": [
        {
          "output_type": "stream",
          "name": "stdout",
          "text": [
            "                                            description sentiment\n",
            "0     As her father nears the end of his life, filmm...  Positive\n",
            "1     After crossing paths at a party, a Cape Town t...   Neutral\n",
            "2     To protect his family from a powerful drug lor...  Negative\n",
            "3     Feuds, flirtations and toilet talk go down amo...  Negative\n",
            "4     In a city of coaching centers known to train I...   Neutral\n",
            "...                                                 ...       ...\n",
            "8802  A political cartoonist, a crime reporter and a...  Negative\n",
            "8803  While living alone in a spooky town, a young g...  Positive\n",
            "8804  Looking to survive in a world taken over by zo...   Neutral\n",
            "8805  Dragged from civilian life, a former superhero...  Positive\n",
            "8806  A scrappy but poor boy worms his way into a ty...  Negative\n",
            "\n",
            "[8807 rows x 2 columns]\n"
          ]
        }
      ]
    }
  ]
}