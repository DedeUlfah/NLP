{
  "nbformat": 4,
  "nbformat_minor": 0,
  "metadata": {
    "colab": {
      "provenance": []
    },
    "kernelspec": {
      "name": "python3",
      "display_name": "Python 3"
    },
    "language_info": {
      "name": "python"
    }
  },
  "cells": [
    {
      "cell_type": "code",
      "execution_count": 1,
      "metadata": {
        "id": "nKHMP5Zh0wcn"
      },
      "outputs": [],
      "source": [
        "import json\n",
        "from sklearn.feature_extraction.text import TfidfVectorizer\n",
        "from sklearn.metrics.pairwise import cosine_similarity\n",
        "import numpy as np"
      ]
    },
    {
      "cell_type": "code",
      "source": [
        "# Load the dataset\n",
        "with open('agent.json', 'r', encoding='utf-8') as file:\n",
        "    data = json.load(file)"
      ],
      "metadata": {
        "id": "WmoYGf5C1HOf"
      },
      "execution_count": 2,
      "outputs": []
    },
    {
      "cell_type": "code",
      "source": [
        "# Preprocess the data\n",
        "corpus = []\n",
        "intent_names = []\n",
        "\n",
        "for intent in data:\n",
        "    patterns = intent.get('utterances', [])  # Menggunakan get untuk menghindari KeyError jika 'utterances' tidak ada\n",
        "    if patterns:\n",
        "        corpus.append(' '.join(patterns))\n",
        "        intent_names.append(intent['intent'])"
      ],
      "metadata": {
        "id": "wK9Mv2gd1H82"
      },
      "execution_count": 3,
      "outputs": []
    },
    {
      "cell_type": "code",
      "source": [
        "# Check if corpus is not empty\n",
        "if not corpus:\n",
        "    print(\"Error: No valid utterances found.\")\n",
        "else:\n",
        "    # Initialize the vectorizer and transform the corpus\n",
        "    vectorizer = TfidfVectorizer()\n",
        "    X = vectorizer.fit_transform(corpus)\n",
        "    # Function to generate bot response\n",
        "    def generate_response(user_input):\n",
        "        input_vector = vectorizer.transform([user_input])\n",
        "        similarities = cosine_similarity(input_vector, X)\n",
        "        index = np.argmax(similarities)\n",
        "        intent_name = intent_names[index]\n",
        "        response = np.random.choice([answer for intent in data if intent['intent'] == intent_name for answer in intent.get('answers', [])])\n",
        "        return response\n",
        "\n",
        "        # Chatbot loop\n",
        "    print(\"Chatbot: Hi! I'm your virtual assistant. How can I help you today?\")\n",
        "    while True:\n",
        "        user_input = input(\"You: \")\n",
        "        if user_input.lower() in ['exit', 'quit', 'bye', 'goodbye']:\n",
        "            print(\"Chatbot: Goodbye!\")\n",
        "            break\n",
        "        response = generate_response(user_input)\n",
        "        print(\"Chatbot:\", response)\n",
        "\n"
      ],
      "metadata": {
        "colab": {
          "base_uri": "https://localhost:8080/"
        },
        "id": "NAcRxsVZ1LyZ",
        "outputId": "33da45d8-b522-4f04-a62b-dce241e24495"
      },
      "execution_count": 11,
      "outputs": [
        {
          "output_type": "stream",
          "name": "stdout",
          "text": [
            "Chatbot: Hi! I'm your virtual assistant. How can I help you today?\n",
            "You: katakan tentang anda\n",
            "Chatbot: Saya bukan orang, saya adalah agen virtual\n",
            "You: berapa umurmu\n",
            "Chatbot: Saya diciptakan baru-baru ini\n",
            "You: kapan kamu lahir\n",
            "Chatbot: Aku masih muda. Aku tidak yakin dengan tanggal lahirku\n",
            "You: apa hobimu\n",
            "Chatbot: Hobi? Saya punya cukup banyak. Terlalu banyak untuk dicantumkan\n",
            "You: apakah kamu lapar\n",
            "Chatbot: Lapar akan pengetahuan\n",
            "You: apakah aku teman kamu\n",
            "Chatbot: Teman? Tentu saja\n",
            "You: dimana rumahmu\n",
            "Chatbot: Internet adalah pangkalan dan kantor pusat saya\n",
            "You: goodbye\n",
            "Chatbot: Goodbye!\n"
          ]
        }
      ]
    }
  ]
}